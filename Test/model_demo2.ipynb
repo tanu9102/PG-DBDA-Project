{
  "cells": [
    {
      "cell_type": "code",
      "execution_count": null,
      "metadata": {
        "colab": {
          "base_uri": "https://localhost:8080/"
        },
        "id": "Bul9hj0QN-jE",
        "outputId": "959e0c14-2119-47a2-c631-43e4732cd7f0"
      },
      "outputs": [],
      "source": [
        "# !pip install ultralytics\n",
        "from ultralytics import YOLO"
      ]
    },
    {
      "cell_type": "code",
      "execution_count": 2,
      "metadata": {
        "colab": {
          "base_uri": "https://localhost:8080/"
        },
        "id": "qvqy9Pn7POi6",
        "outputId": "a611bc6f-2497-4540-9235-54d86ee0328d"
      },
      "outputs": [],
      "source": [
        "model = YOLO('./path/to/yolov8n.pt')"
      ]
    },
    {
      "cell_type": "code",
      "execution_count": 3,
      "metadata": {},
      "outputs": [],
      "source": [
        "import torch\n",
        "from tqdm import tqdm\n",
        "import numpy as np"
      ]
    },
    {
      "cell_type": "code",
      "execution_count": null,
      "metadata": {},
      "outputs": [],
      "source": [
        "\n",
        "# Set training parameters\n",
        "train_params = {\n",
        "    'data': '/Users/suyog/cdac_project_try1/.venv/Data/data.yaml',  # Path to the dataset configuration file\n",
        "    'epochs': 10,                  # Number of training epochs\n",
        "    'imgsz': 640,                   # Image size\n",
        "    'batch': 8,                    # Batch size\n",
        "    'workers': 4,                   # Number of data loader workers\n",
        "    'save': True,                   # Save training results\n",
        "    'device': 'mps',\n",
        "    'conf' : 0.25,                  # Use Metal Performance Shaders for Apple Silicon\n",
        "    \n",
        "}\n",
        "\n",
        "# Create a progress bar for epochs\n",
        "epochs = train_params['epochs']\n",
        "with tqdm(total=epochs, desc=\"Training Progress\", unit=\"epoch\") as pbar:\n",
        "    for epoch in range(epochs):\n",
        "        # Call the YOLO train method\n",
        "        model.train(**train_params)\n",
        "        \n",
        "        # Update the progress bar\n",
        "        pbar.update(1)\n"
      ]
    },
    {
      "cell_type": "code",
      "execution_count": null,
      "metadata": {
        "colab": {
          "base_uri": "https://localhost:8080/"
        },
        "id": "rvlajCeXRAS3",
        "outputId": "70c7cd09-a433-4730-d0de-9304b990fea0"
      },
      "outputs": [],
      "source": [
        "# Step 3: Evaluate the trained model\n",
        "print(\"Evaluating the model...\")\n",
        "metrics = model.val(data='/Users/suyog/cdac_project_try1/.venv/Data/data.yaml')\n",
        "print(\"Evaluation Metrics:\", metrics)"
      ]
    },
    {
      "cell_type": "code",
      "execution_count": null,
      "metadata": {
        "colab": {
          "base_uri": "https://localhost:8080/"
        },
        "id": "L9rgMR9RSEWE",
        "outputId": "68bc6817-4384-47af-e5a1-639d359f9d25"
      },
      "outputs": [],
      "source": [
        "# Step 4: Perform inference on an image\n",
        "print(\"Running inference...\")\n",
        "image_path = '/Users/suyog/cdac_project_try1/.venv/Data/test/images/01F3MMVYT4SJ23G9XQQ3S8BKNE_jpeg.rf.1daf196663f9f4232a3d3a1fbbb622a1.jpg'  # Replace with the path to your test image\n",
        "results = model(image_path)\n",
        "results"
      ]
    },
    {
      "cell_type": "code",
      "execution_count": null,
      "metadata": {
        "id": "Xcj4nx2iSZee"
      },
      "outputs": [],
      "source": [
        "model.export(format='onnx')  # Supported formats: 'onnx', 'torchscript', 'tflite', etc.\n",
        "\n",
        "print(\"YOLOv8 implementation completed!\")"
      ]
    },
    {
      "cell_type": "code",
      "execution_count": null,
      "metadata": {},
      "outputs": [],
      "source": [
        "# Step 4: Perform inference on an image\n",
        "print(\"Running inference...\")\n",
        "image_path = '/Users/suyog/cdac_project_try1/.venv/Data/train/images/01F3MMVC4SSD2BWWP115BMSB3Q_jpeg.rf.c6e878852e1cf2dd305a599b2716ccda.jpg'  # Replace with the path to your test image\n",
        "results = model(image_path)\n",
        "results"
      ]
    },
    {
      "cell_type": "code",
      "execution_count": null,
      "metadata": {},
      "outputs": [],
      "source": [
        "results = model.predict(r\"/Users/suyog/cdac_project_try1/.venv/Data/test/images/01F3MMVYT4SJ23G9XQQ3S8BKNE_jpeg.rf.1daf196663f9f4232a3d3a1fbbb622a1.jpg\")\n",
        "\n",
        "for result in results:\n",
        "    if len(result.boxes) > 0:  # Check if there are any boxes\n",
        "        for box in result.boxes:  # Access detected bounding boxes\n",
        "            x1, y1, x2, y2 = box.xyxy[0].tolist()  # Bounding box coordinates\n",
        "            confidence = box.conf.item()  # Confidence score\n",
        "            class_id = int(box.cls.item())  # Class ID\n",
        "            class_name = result.names[class_id]  # Get class name\n",
        "\n",
        "            print(f\"Detected: {class_name} | Confidence: {confidence:.2f} | Box: ({x1:.1f}, {y1:.1f}, {x2:.1f}, {y2:.1f})\")\n",
        "    else:\n",
        "        print(\"No detections found in this result.\")\n",
        "\n",
        "#correct"
      ]
    },
    {
      "cell_type": "code",
      "execution_count": null,
      "metadata": {},
      "outputs": [],
      "source": [
        "results = model.predict(r\"\")\n",
        "\n",
        "for result in results:\n",
        "    if len(result.boxes) > 0:  # Check if there are any boxes\n",
        "        for box in result.boxes:  # Access detected bounding boxes\n",
        "            x1, y1, x2, y2 = box.xyxy[0].tolist()  # Bounding box coordinates\n",
        "            confidence = box.conf.item()  # Confidence score\n",
        "            class_id = int(box.cls.item())  # Class ID\n",
        "            class_name = result.names[class_id]  # Get class name\n",
        "\n",
        "            print(f\"Detected: {class_name} | Confidence: {confidence:.2f} | Box: ({x1:.1f}, {y1:.1f}, {x2:.1f}, {y2:.1f})\")\n",
        "    else:\n",
        "        print(\"No detections found in this result.\")"
      ]
    },
    {
      "cell_type": "code",
      "execution_count": null,
      "metadata": {},
      "outputs": [],
      "source": [
        "results = model.predict(r\"/Users/suyog/cdac_project_try1/.venv/Data/test/images/01F3MMW28Z2J8R32ZE4BECFRS8_jpeg.rf.fdc5cbe57f816da1ddd5f024832e2995.jpg\")\n",
        "\n",
        "for result in results:\n",
        "    if len(result.boxes) > 0:  # Check if there are any boxes\n",
        "        for box in result.boxes:  # Access detected bounding boxes\n",
        "            x1, y1, x2, y2 = box.xyxy[0].tolist()  # Bounding box coordinates\n",
        "            confidence = box.conf.item()  # Confidence score\n",
        "            class_id = int(box.cls.item())  # Class ID\n",
        "            class_name = result.names[class_id]  # Get class name\n",
        "\n",
        "            print(f\"Detected: {class_name} | Confidence: {confidence:.2f} | Box: ({x1:.1f}, {y1:.1f}, {x2:.1f}, {y2:.1f})\")\n",
        "    else:\n",
        "        print(\"No detections found in this result.\")\n",
        "\n",
        "#pustules correct....dark spot wrong"
      ]
    },
    {
      "cell_type": "code",
      "execution_count": null,
      "metadata": {},
      "outputs": [],
      "source": [
        "results = model.predict(r\"/Users/suyog/cdac_project_try1/.venv/Data/test/images/levle3_76_jpg.rf.f513e4d10ceb736c0f460f00b8567a7f.jpg\")\n",
        "\n",
        "for result in results:\n",
        "    if len(result.boxes) > 0:  # Check if there are any boxes\n",
        "        for box in result.boxes:  # Access detected bounding boxes\n",
        "            x1, y1, x2, y2 = box.xyxy[0].tolist()  # Bounding box coordinates\n",
        "            confidence = box.conf.item()  # Confidence score\n",
        "            class_id = int(box.cls.item())  # Class ID\n",
        "            class_name = result.names[class_id]  # Get class name\n",
        "\n",
        "            print(f\"Detected: {class_name} | Confidence: {confidence:.2f} | Box: ({x1:.1f}, {y1:.1f}, {x2:.1f}, {y2:.1f})\")\n",
        "    else:\n",
        "        print(\"No detections found in this result.\")\n",
        "\n",
        "#accurate but no. is less"
      ]
    },
    {
      "cell_type": "code",
      "execution_count": null,
      "metadata": {},
      "outputs": [],
      "source": []
    },
    {
      "cell_type": "code",
      "execution_count": 1,
      "metadata": {},
      "outputs": [],
      "source": []
    },
    {
      "cell_type": "code",
      "execution_count": null,
      "metadata": {},
      "outputs": [],
      "source": []
    },
    {
      "cell_type": "code",
      "execution_count": null,
      "metadata": {},
      "outputs": [],
      "source": []
    }
  ],
  "metadata": {
    "accelerator": "GPU",
    "colab": {
      "gpuType": "T4",
      "provenance": []
    },
    "kernelspec": {
      "display_name": ".venv",
      "language": "python",
      "name": "python3"
    },
    "language_info": {
      "codemirror_mode": {
        "name": "ipython",
        "version": 3
      },
      "file_extension": ".py",
      "mimetype": "text/x-python",
      "name": "python",
      "nbconvert_exporter": "python",
      "pygments_lexer": "ipython3",
      "version": "3.9.6"
    }
  },
  "nbformat": 4,
  "nbformat_minor": 0
}
